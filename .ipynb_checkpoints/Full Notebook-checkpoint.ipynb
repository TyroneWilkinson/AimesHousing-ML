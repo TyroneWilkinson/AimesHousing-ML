{
 "cells": [
  {
   "cell_type": "markdown",
   "metadata": {},
   "source": [
    "# House Prices Advanced Learning Regression Techniques "
   ]
  },
  {
   "cell_type": "markdown",
   "metadata": {},
   "source": [
    "# Data Understanding"
   ]
  },
  {
   "cell_type": "markdown",
   "metadata": {},
   "source": [
    "Useful Links:\n",
    "- https://www.kaggle.com/c/house-prices-advanced-regression-techniques\n",
    "- http://jse.amstat.org/v19n3/decock.pdf\n",
    "- http://jse.amstat.org/v19n3/decock/DataDocumentation.txt"
   ]
  },
  {
   "cell_type": "markdown",
   "metadata": {},
   "source": [
    "### Import Packages"
   ]
  },
  {
   "cell_type": "code",
   "execution_count": null,
   "metadata": {},
   "outputs": [],
   "source": [
    "import pandas as pd\n",
    "import numpy as np\n",
    "import matplotlib.pyplot as plt\n",
    "%matplotlib inline\n",
    "import seaborn as sns\n",
    "\n",
    "pd.pandas.set_option('display.max_columns',None)"
   ]
  },
  {
   "cell_type": "markdown",
   "metadata": {},
   "source": [
    "### Load the Ames, Iowa Housing Data Set"
   ]
  },
  {
   "cell_type": "code",
   "execution_count": null,
   "metadata": {},
   "outputs": [],
   "source": [
    "housing=pd.read_csv('data/train.csv')"
   ]
  },
  {
   "cell_type": "markdown",
   "metadata": {},
   "source": [
    "## Exploratory Data Analaysis"
   ]
  },
  {
   "cell_type": "code",
   "execution_count": null,
   "metadata": {},
   "outputs": [],
   "source": [
    "housing.head()"
   ]
  },
  {
   "cell_type": "code",
   "execution_count": null,
   "metadata": {},
   "outputs": [],
   "source": [
    "housing.shape"
   ]
  },
  {
   "cell_type": "code",
   "execution_count": null,
   "metadata": {},
   "outputs": [],
   "source": [
    "housing.columns.tolist()"
   ]
  },
  {
   "cell_type": "markdown",
   "metadata": {},
   "source": [
    "### The Meaning of Each Feature\n",
    "- Id: Observation number\n",
    "- MSSubClass: Identifies the type of dwelling involved in the sale\n",
    "- MSZoning: Identifies the general zoning classification of the sale\n",
    "- LotFrontage: Linear feet of street connected to property\n",
    "- LotArea: Lot size in square feet\n",
    "- Street: Type of road access to property\n",
    "- Alley: Type of alley access to property\n",
    "- LotShape: General shape of property\n",
    "- LandContour: Flatness of the property\n",
    "- Utilities: Type of utilities available\n",
    "- LotConfig: Lot configuration\n",
    "- LandSlope: Slope of property\n",
    "- Neighborhood: Physical locations within Ames city limits\n",
    "- Condition1: Proximity to various conditions\n",
    "- Condition2: Proximity to various conditions (if more than one is present)\n",
    "- BldgType: Type of dwelling\n",
    "- HouseStyle: Style of dwelling\n",
    "- OverallQual: Rates the overall material and finish of the house\n",
    "- OverallCond: Rates the overall condition of the house\n",
    "- YearBuilt: Original construction date\n",
    "- YearRemodAdd: Remodel date (same as construction date if no remodeling or additions)\n",
    "- RoofStyle: Type of roof\n",
    "- RoofMatl: Roof material\n",
    "- Exterior1st: Exterior covering on house\n",
    "- Exterior2nd: Exterior covering on house (if more than one material)\n",
    "- MasVnrType: Masonry veneer type\n",
    "- MasVnrArea: Masonry veneer area in square feet\n",
    "- ExterQual: Evaluates the quality of the material on the exterior \n",
    "- ExterCond: Evaluates the present condition of the material on the exterior\n",
    "- Foundation: Type of foundation\n",
    "- BsmtQual: Evaluates the height of the basement\n",
    "- BsmtCond: Evaluates the general condition of the basement\n",
    "- BsmtExposure: Refers to walkout or garden level walls\n",
    "- BsmtFinType1: Rating of basement finished area\n",
    "- BsmtFinSF1: Type 1 finished square feet\n",
    "- BsmtFinType2: Rating of basement finished area (if multiple types)\n",
    "- BsmtFinSF2: Type 2 finished square feet\n",
    "- BsmtUnfSF: Unfinished square feet of basement area\n",
    "- TotalBsmtSF: Total square feet of basement area\n",
    "- Heating: Type of heating\n",
    "- HeatingQC: Heating quality and condition\n",
    "- CentralAir: Central air conditioning\n",
    "- Electrical: Electrical system\n",
    "- 1stFlrSF: First Floor square feet\n",
    "- 2ndFlrSF: Second floor square feet\n",
    "- LowQualFinSF: Low quality finished square feet (all floors)\n",
    "- GrLivArea: Above grade (ground) living area square feet\n",
    "- BsmtFullBath: Basement full bathrooms\n",
    "- BsmtHalfBath: Basement half bathrooms\n",
    "- FullBath: Full bathrooms above grade\n",
    "- HalfBath: Half baths above grade\n",
    "- Bedroom: Bedrooms above grade (does NOT include basement bedrooms)\n",
    "- Kitchen: Kitchens above grade\n",
    "- KitchenQual: Kitchen quality\n",
    "- TotRmsAbvGrd: Total rooms above grade (does not include bathrooms)\n",
    "- Functional: Home functionality (Assume typical unless deductions are warranted)\n",
    "- Fireplaces: Number of fireplaces\n",
    "- FireplaceQu: Fireplace quality\n",
    "- GarageType: Garage location\n",
    "- GarageYrBlt: Year garage was built\n",
    "- GarageFinish: Interior finish of the garage\n",
    "- GarageCars: Size of garage in car capacity\n",
    "- GarageArea: Size of garage in square feet\n",
    "- GarageQual: Garage quality\n",
    "- GarageCond: Garage condition\n",
    "- PavedDrive: Paved driveway\n",
    "- WoodDeckSF: Wood deck area in square feet\n",
    "- OpenPorchSF: Open porch area in square feet\n",
    "- EnclosedPorch: Enclosed porch area in square feet\n",
    "- 3SsnPorch: Three season porch area in square feet\n",
    "- ScreenPorch: Screen porch area in square feet\n",
    "- PoolArea: Pool area in square feet\n",
    "- PoolQC: Pool quality\n",
    "- Fence: Fence quality\n",
    "- MiscFeature: Miscellaneous feature not covered in other categories\n",
    "- MiscVal: Value of miscellaneous feature\n",
    "- MoSold: Month Sold (MM)\n",
    "- YrSold: Year Sold (YYYY)\n",
    "- SaleType: Type of sale\n",
    "- SaleCondition: Condition of sale\n",
    "- SalePrice: Sale price \n",
    "\n"
   ]
  },
  {
   "cell_type": "markdown",
   "metadata": {},
   "source": [
    "### The Features Categorized\n",
    "- **20 Continuous Variables**\n",
    "    - LotFrontage: Linear feet of street connected to property\n",
    "    - LotArea: Lot size in square feet\n",
    "    - MasVnrArea: Masonry veneer area in square feet\n",
    "    - BsmtFinSF1: Type 1 finished square feet\n",
    "    - BsmtFinSF2: Type 2 finished square feet\n",
    "    - BsmtUnfSF: Unfinished square feet of basement area\n",
    "    - TotalBsmtSF: Total square feet of basement area\n",
    "    - 1stFlrSF: First Floor square feet\n",
    "    - 2ndFlrSF: Second floor square feet\n",
    "    - LowQualFinSF: Low quality finished square feet (all floors)\n",
    "    - GrLivArea: Above grade (ground) living area square feet\n",
    "    - GarageArea: Size of garage in square feet\n",
    "    - WoodDeckSF: Wood deck area in square feet\n",
    "    - OpenPorchSF: Open porch area in square feet\n",
    "    - EnclosedPorch: Enclosed porch area in square feet\n",
    "    - 3SsnPorch: Three season porch area in square feet\n",
    "    - ScreenPorch: Screen porch area in square feet\n",
    "    - PoolArea: Pool area in square feet\n",
    "    - MiscVal: Value of miscellaneous feature\n",
    "    - SalePrice: Sale price \n",
    "    \n",
    "\n",
    "- **15 Discrete Variables**\n",
    "    - Id: Observation number\n",
    "    - YearBuilt: Original construction date\n",
    "    - YearRemodAdd: Remodel date (same as construction date if no remodeling or additions)\n",
    "    - BsmtFullBath: Basement full bathrooms\n",
    "    - BsmtHalfBath: Basement half bathrooms\n",
    "    - FullBath: Full bathrooms above grade\n",
    "    - HalfBath: Half baths above grade\n",
    "    - Bedroom: Bedrooms above grade (does NOT include basement bedrooms)\n",
    "    - Kitchen: Kitchens above grade\n",
    "    - TotRmsAbvGrd: Total rooms above grade (does not include bathrooms)\n",
    "    - Fireplaces: Number of fireplaces\n",
    "    - GarageYrBlt: Year garage was built\n",
    "    - GarageCars: Size of garage in car capacity\n",
    "    - MoSold: Month Sold (MM)\n",
    "    - YrSold: Year Sold (YYYY)\n",
    "\n",
    "\n",
    "- **46 Categorical Variables**\n",
    "    - 23 Nominal Variables:\n",
    "        - MSSubClass: Identifies the type of dwelling involved in the sale.\n",
    "        - MSZoning: Identifies the general zoning classification of the sale.\n",
    "        - Street: Type of road access to property\n",
    "        - Alley: Type of alley access to property\n",
    "        - LandContour: Flatness of the property\n",
    "        - LotConfig: Lot configuration\n",
    "        - Neighborhood: Physical locations within Ames city limits\n",
    "        - Condition1: Proximity to various conditions\n",
    "        - Condition2: Proximity to various conditions (if more than one is present)\n",
    "        - BldgType: Type of dwelling\n",
    "        - HouseStyle: Style of dwelling\n",
    "        - RoofStyle: Type of roof\n",
    "        - RoofMatl: Roof material\n",
    "        - Exterior1st: Exterior covering on house\n",
    "        - Exterior2nd: Exterior covering on house (if more than one material)\n",
    "        - MasVnrType: Masonry veneer type\n",
    "        - Foundation: Type of foundation\n",
    "        - Heating: Type of heating\n",
    "        - CentralAir: Central air conditioning\n",
    "        - GarageType: Garage location\n",
    "        - MiscFeature: Miscellaneous feature not covered in other categories\n",
    "        - SaleType: Type of sale\n",
    "        - SaleCondition: Condition of sale\n",
    "        \n",
    "    - 23 Ordinal Variables:\n",
    "        - LotShape: General shape of property\n",
    "        - Utilities: Type of utilities available\n",
    "        - LandSlope: Slope of property\n",
    "        - OverallQual: Rates the overall material and finish of the house\n",
    "        - OverallCond: Rates the overall condition of the house\n",
    "        - ExterQual: Evaluates the quality of the material on the exterior \n",
    "        - ExterCond: Evaluates the present condition of the material on the exterior\n",
    "        - BsmtQual: Evaluates the height of the basement\n",
    "        - BsmtCond: Evaluates the general condition of the basement\n",
    "        - BsmtExposure: Refers to walkout or garden level walls\n",
    "        - BsmtFinType1: Rating of basement finished area\n",
    "        - BsmtFinType2: Rating of basement finished area (if multiple types)\n",
    "        - HeatingQC: Heating quality and condition\n",
    "        - Electrical: Electrical system\n",
    "        - KitchenQual: Kitchen quality\n",
    "        - Functional: Home functionality (Assume typical unless deductions are warranted)\n",
    "        - FireplaceQu: Fireplace quality\n",
    "        - GarageFinish: Interior finish of the garage\n",
    "        - GarageQual: Garage quality\n",
    "        - GarageCond: Garage condition\n",
    "        - PavedDrive: Paved driveway\n",
    "        - PoolQC: Pool quality\n",
    "        - Fence: Fence quality\n",
    "\n",
    "\n"
   ]
  },
  {
   "cell_type": "markdown",
   "metadata": {},
   "source": [
    "**_NOTE: I SHOULD DROP ID COLUMN_**"
   ]
  },
  {
   "cell_type": "code",
   "execution_count": null,
   "metadata": {},
   "outputs": [],
   "source": [
    "housing.Id"
   ]
  },
  {
   "cell_type": "code",
   "execution_count": null,
   "metadata": {},
   "outputs": [],
   "source": []
  },
  {
   "cell_type": "markdown",
   "metadata": {},
   "source": [
    "### Distribution of all numerical variables"
   ]
  },
  {
   "cell_type": "code",
   "execution_count": null,
   "metadata": {
    "scrolled": true
   },
   "outputs": [],
   "source": [
    "housing.hist(bins=50, figsize=(20,15))"
   ]
  },
  {
   "cell_type": "markdown",
   "metadata": {},
   "source": [
    "### Distribution of all continuous features"
   ]
  },
  {
   "cell_type": "code",
   "execution_count": null,
   "metadata": {},
   "outputs": [],
   "source": [
    "continuous = ['LotFrontage',\n",
    "'LotArea',\n",
    "'MasVnrArea',\n",
    "'BsmtFinSF1',\n",
    "'BsmtFinSF2',\n",
    "'BsmtUnfSF',\n",
    "'TotalBsmtSF',\n",
    "'1stFlrSF',\n",
    "'2ndFlrSF',\n",
    "'LowQualFinSF',\n",
    "'GrLivArea',\n",
    "'GarageArea',\n",
    "'WoodDeckSF',\n",
    "'OpenPorchSF',\n",
    "'EnclosedPorch',\n",
    "'3SsnPorch',\n",
    "'ScreenPorch',\n",
    "'PoolArea',\n",
    "'MiscVal',\n",
    "'SalePrice']"
   ]
  },
  {
   "cell_type": "code",
   "execution_count": null,
   "metadata": {},
   "outputs": [],
   "source": [
    "housing[continuous].hist(bins=50, figsize=(20,15))"
   ]
  },
  {
   "cell_type": "code",
   "execution_count": null,
   "metadata": {},
   "outputs": [],
   "source": [
    "housing['PoolArea'].value_counts()"
   ]
  },
  {
   "cell_type": "code",
   "execution_count": null,
   "metadata": {},
   "outputs": [],
   "source": [
    "housing['LowQualFinSF'].value_counts()"
   ]
  },
  {
   "cell_type": "markdown",
   "metadata": {},
   "source": [
    "**_NOTE:_** \n",
    "- **_Much of the continuous features are skewed. I should normalize._** \n",
    "- **_I can get rid of some of these features like 'PoolArea' and 'LowQualFinSF' that add nothing to the data._** "
   ]
  },
  {
   "cell_type": "markdown",
   "metadata": {},
   "source": [
    "### Descriptive statistics of the numerical features"
   ]
  },
  {
   "cell_type": "code",
   "execution_count": null,
   "metadata": {},
   "outputs": [],
   "source": [
    "housing.describe()"
   ]
  },
  {
   "cell_type": "markdown",
   "metadata": {},
   "source": [
    "### Count distribution of each categorical feature"
   ]
  },
  {
   "cell_type": "code",
   "execution_count": null,
   "metadata": {},
   "outputs": [],
   "source": [
    "housing.select_dtypes(include=[np.object]).columns.tolist()"
   ]
  },
  {
   "cell_type": "code",
   "execution_count": null,
   "metadata": {},
   "outputs": [],
   "source": [
    "categorical = ['MSSubClass',\n",
    "'MSZoning',\n",
    " 'Street',\n",
    " 'Alley',\n",
    " 'LotShape',\n",
    " 'LandContour',\n",
    " 'Utilities',\n",
    " 'LotConfig',\n",
    " 'LandSlope',\n",
    " 'Neighborhood',\n",
    " 'Condition1',\n",
    " 'Condition2',\n",
    " 'BldgType',\n",
    " 'HouseStyle',\n",
    " 'OverallQual',\n",
    " 'OverallCond',\n",
    " 'RoofStyle',\n",
    " 'RoofMatl',\n",
    " 'Exterior1st',\n",
    " 'Exterior2nd',\n",
    " 'MasVnrType',\n",
    " 'ExterQual',\n",
    " 'ExterCond',\n",
    " 'Foundation',\n",
    " 'BsmtQual',\n",
    " 'BsmtCond',\n",
    " 'BsmtExposure',\n",
    " 'BsmtFinType1',\n",
    " 'BsmtFinType2',\n",
    " 'Heating',\n",
    " 'HeatingQC',\n",
    " 'CentralAir',\n",
    " 'Electrical',\n",
    " 'KitchenQual',\n",
    " 'Functional',\n",
    " 'FireplaceQu',\n",
    " 'GarageType',\n",
    " 'GarageFinish',\n",
    " 'GarageQual',\n",
    " 'GarageCond',\n",
    " 'PavedDrive',\n",
    " 'PoolQC',\n",
    " 'Fence',\n",
    " 'MiscFeature',\n",
    " 'SaleType',\n",
    " 'SaleCondition']"
   ]
  },
  {
   "cell_type": "code",
   "execution_count": null,
   "metadata": {},
   "outputs": [],
   "source": [
    "for feature in categorical:\n",
    "    display(housing[feature].value_counts().to_frame())\n",
    "    print(f'There are {housing[feature].unique().size} features in {feature}.')"
   ]
  },
  {
   "cell_type": "markdown",
   "metadata": {},
   "source": [
    "- **_Street and Utilities to name a couple seem useless._**\n",
    "- **_PoolQC seems to be missing most of its data..._**"
   ]
  },
  {
   "cell_type": "code",
   "execution_count": null,
   "metadata": {},
   "outputs": [],
   "source": [
    "housing['PoolQC']"
   ]
  },
  {
   "cell_type": "code",
   "execution_count": null,
   "metadata": {},
   "outputs": [],
   "source": []
  },
  {
   "cell_type": "markdown",
   "metadata": {},
   "source": [
    "### Missing Values"
   ]
  },
  {
   "cell_type": "code",
   "execution_count": null,
   "metadata": {},
   "outputs": [],
   "source": [
    "housing.columns[housing.isnull().any()].size"
   ]
  },
  {
   "cell_type": "code",
   "execution_count": null,
   "metadata": {},
   "outputs": [],
   "source": [
    "missing_cols = housing.columns[housing.isnull().any()].to_list()\n",
    "missing_cols"
   ]
  },
  {
   "cell_type": "code",
   "execution_count": null,
   "metadata": {},
   "outputs": [],
   "source": [
    "missing = 1 - housing.count()/len(housing) "
   ]
  },
  {
   "cell_type": "markdown",
   "metadata": {},
   "source": [
    "**Percentage of missing values:**"
   ]
  },
  {
   "cell_type": "code",
   "execution_count": null,
   "metadata": {},
   "outputs": [],
   "source": [
    "missing[missing > 0].sort_values(ascending=False)"
   ]
  },
  {
   "cell_type": "code",
   "execution_count": null,
   "metadata": {},
   "outputs": [],
   "source": [
    "missing[missing > 0].sort_values().plot.bar(color=np.random.rand(len(missing),3))"
   ]
  },
  {
   "cell_type": "markdown",
   "metadata": {},
   "source": [
    "**_NOTE:_**\n",
    "- **_I'll have to get rid of some features and replace the missing values in other features, depending on their effect on Sales Price._**\n"
   ]
  },
  {
   "cell_type": "markdown",
   "metadata": {},
   "source": [
    "**Relationship between the missing values and sales price**"
   ]
  },
  {
   "cell_type": "code",
   "execution_count": null,
   "metadata": {},
   "outputs": [],
   "source": [
    "housing[missing[missing > 0].index]"
   ]
  },
  {
   "cell_type": "code",
   "execution_count": null,
   "metadata": {},
   "outputs": [],
   "source": [
    "housing1 = housing[missing_cols].copy()\n",
    "housing1[missing_cols] = np.where(housing[missing[missing > 0].index].isnull(), 1, 0)\n",
    "housing1 = pd.concat([housing1, housing[['SalePrice']]], axis=1)\n",
    "housing1"
   ]
  },
  {
   "cell_type": "code",
   "execution_count": null,
   "metadata": {},
   "outputs": [],
   "source": [
    "for feature in missing_cols:\n",
    "    housing1.groupby(feature)['SalePrice'].median().plot.bar()\n",
    "    plt.title(f'Missingness in {feature}')\n",
    "    plt.ylabel('SalePrice')\n",
    "    plt.show()"
   ]
  },
  {
   "cell_type": "markdown",
   "metadata": {},
   "source": [
    "**_Due to the relationship between the missing values and SalePrice, it would prove useful to replace them with meaningful values._**"
   ]
  },
  {
   "cell_type": "code",
   "execution_count": null,
   "metadata": {},
   "outputs": [],
   "source": []
  },
  {
   "cell_type": "markdown",
   "metadata": {},
   "source": [
    "### Correlation among the numerical features "
   ]
  },
  {
   "cell_type": "code",
   "execution_count": null,
   "metadata": {},
   "outputs": [],
   "source": [
    "numerical = housing.select_dtypes(include=[np.number]).columns.tolist()\n",
    "numerical"
   ]
  },
  {
   "cell_type": "code",
   "execution_count": null,
   "metadata": {},
   "outputs": [],
   "source": [
    "correlation = housing[numerical].corr()\n",
    "correlation"
   ]
  },
  {
   "cell_type": "code",
   "execution_count": null,
   "metadata": {},
   "outputs": [],
   "source": [
    "correlation['SalePrice'].sort_values(ascending=False)"
   ]
  },
  {
   "cell_type": "code",
   "execution_count": null,
   "metadata": {
    "scrolled": false
   },
   "outputs": [],
   "source": [
    "f,ax = plt.subplots(figsize=(25,25))\n",
    "sns.heatmap(correlation, vmax=.8, linewidths=0.01, linecolor='white', square=True)"
   ]
  },
  {
   "cell_type": "markdown",
   "metadata": {},
   "source": [
    "**_There is high multicolinearity._**"
   ]
  },
  {
   "cell_type": "markdown",
   "metadata": {},
   "source": [
    "**Let's see the features that have a correlation with SalePrice that's greater than .5.**"
   ]
  },
  {
   "cell_type": "code",
   "execution_count": null,
   "metadata": {},
   "outputs": [],
   "source": [
    "n=11\n",
    "features = correlation['SalePrice'].sort_values(ascending=False).index.tolist()[:n]\n",
    "features"
   ]
  },
  {
   "cell_type": "code",
   "execution_count": null,
   "metadata": {},
   "outputs": [],
   "source": [
    "np.corrcoef(housing[features].values)"
   ]
  },
  {
   "cell_type": "code",
   "execution_count": null,
   "metadata": {
    "scrolled": true
   },
   "outputs": [],
   "source": [
    "correlation.loc[features,features]"
   ]
  },
  {
   "cell_type": "code",
   "execution_count": null,
   "metadata": {},
   "outputs": [],
   "source": [
    "f,ax = plt.subplots(figsize=(10,10))\n",
    "sns.heatmap(correlation.loc[features,features], vmax=0.8, annot=True, linewidths=0.01, linecolor='white', square=True)"
   ]
  },
  {
   "cell_type": "markdown",
   "metadata": {},
   "source": [
    "**_Multicolinearity can be seen more plainly. For instance, GarageCars and GarageArea have a pearson correlation coefficient of 0.88. Since SalePrice and GarageCars have a higher correlation coefficient than SalePrice and GarageArea, it'd make sense to get rid of GarageArea_**."
   ]
  },
  {
   "cell_type": "code",
   "execution_count": null,
   "metadata": {},
   "outputs": [],
   "source": []
  },
  {
   "cell_type": "markdown",
   "metadata": {},
   "source": [
    "### Outliers"
   ]
  },
  {
   "cell_type": "markdown",
   "metadata": {},
   "source": [
    "Documentation: \n",
    "There are 5 observations that an instructor may wish to remove from the data set before giving it to students (a plot of SALE PRICE versus GR LIV AREA will indicate them quickly). Three of them are true outliers (Partial Sales that likely don’t represent actual market values) and two of them are simply unusual sales (very large houses priced relatively appropriately). I would recommend removing any houses with more than 4000 square feet from the data set (which eliminates these 5 unusual observations) before assigning it to students."
   ]
  },
  {
   "cell_type": "code",
   "execution_count": null,
   "metadata": {},
   "outputs": [],
   "source": [
    "plt.scatter(housing['GrLivArea'],housing['SalePrice'])\n",
    "plt.xlabel('GrLivArea')\n",
    "plt.ylabel('SalePrice')\n",
    "plt.show()"
   ]
  },
  {
   "cell_type": "code",
   "execution_count": null,
   "metadata": {},
   "outputs": [],
   "source": [
    "housing['GrLivArea'].nlargest(5)"
   ]
  },
  {
   "cell_type": "code",
   "execution_count": null,
   "metadata": {},
   "outputs": [],
   "source": [
    "f,ax = plt.subplots(figsize=(10,5))\n",
    "plt.boxplot(housing['GrLivArea'], vert=False)\n",
    "plt.yticks(ticks=[])\n",
    "plt.title('GrLivArea')\n",
    "plt.show()"
   ]
  },
  {
   "cell_type": "markdown",
   "metadata": {},
   "source": [
    "**I see 4 values here. Let's see what other outliers may exist in the data.**"
   ]
  },
  {
   "cell_type": "code",
   "execution_count": null,
   "metadata": {
    "scrolled": false
   },
   "outputs": [],
   "source": [
    "for feature in continuous:\n",
    "#     if 0 not in housing[feature].unique():\n",
    "    f,ax = plt.subplots(figsize=(12,3))\n",
    "    sns.boxplot(x=housing[feature])\n",
    "    plt.yticks(ticks=[])\n",
    "    plt.title(feature)\n",
    "    plt.show()"
   ]
  },
  {
   "cell_type": "markdown",
   "metadata": {},
   "source": [
    "**_Outliers exist in the data..._**"
   ]
  },
  {
   "cell_type": "code",
   "execution_count": null,
   "metadata": {},
   "outputs": [],
   "source": []
  },
  {
   "cell_type": "code",
   "execution_count": null,
   "metadata": {},
   "outputs": [],
   "source": []
  },
  {
   "cell_type": "code",
   "execution_count": null,
   "metadata": {},
   "outputs": [],
   "source": [
    "missing = missing[missing > 0]"
   ]
  },
  {
   "cell_type": "code",
   "execution_count": null,
   "metadata": {},
   "outputs": [],
   "source": []
  },
  {
   "cell_type": "markdown",
   "metadata": {},
   "source": [
    "# Data Preparation"
   ]
  },
  {
   "cell_type": "markdown",
   "metadata": {},
   "source": [
    "## Feature Engineering"
   ]
  },
  {
   "cell_type": "code",
   "execution_count": null,
   "metadata": {},
   "outputs": [],
   "source": [
    "# from sklearn.model_selection import train_test_split\n",
    "# # X_train,X_test,y_train,y_test = train_test_split(housing.drop('SalePrice', axis=1), housing['SalePrice'], test_size=.25, random_state=0)"
   ]
  },
  {
   "cell_type": "markdown",
   "metadata": {},
   "source": [
    "### Drop Id Column"
   ]
  },
  {
   "cell_type": "code",
   "execution_count": null,
   "metadata": {},
   "outputs": [],
   "source": [
    "housingFE = housing.drop(columns='Id')\n",
    "housingFE.head()"
   ]
  },
  {
   "cell_type": "code",
   "execution_count": null,
   "metadata": {},
   "outputs": [],
   "source": []
  },
  {
   "cell_type": "markdown",
   "metadata": {},
   "source": [
    "### Outliers"
   ]
  },
  {
   "cell_type": "code",
   "execution_count": null,
   "metadata": {},
   "outputs": [],
   "source": [
    "housingFE.shape"
   ]
  },
  {
   "cell_type": "code",
   "execution_count": null,
   "metadata": {},
   "outputs": [],
   "source": [
    "housingFE[housingFE['GrLivArea'] > 4000].shape"
   ]
  },
  {
   "cell_type": "code",
   "execution_count": null,
   "metadata": {},
   "outputs": [],
   "source": [
    "housingFE = housingFE[housingFE['GrLivArea'] < 4000]\n",
    "housingFE.shape"
   ]
  },
  {
   "cell_type": "code",
   "execution_count": null,
   "metadata": {},
   "outputs": [],
   "source": [
    "housingFE[housingFE['LotFrontage'] > 200].shape"
   ]
  },
  {
   "cell_type": "code",
   "execution_count": null,
   "metadata": {},
   "outputs": [],
   "source": [
    "housingFE = housingFE[(housingFE['LotFrontage'].isna()) | (housingFE['LotFrontage'] < 200)]\n",
    "housingFE.shape"
   ]
  },
  {
   "cell_type": "code",
   "execution_count": null,
   "metadata": {},
   "outputs": [],
   "source": [
    "housingFE = housingFE[housingFE['LotArea'] < 100000] \n",
    "housingFE.shape"
   ]
  },
  {
   "cell_type": "code",
   "execution_count": null,
   "metadata": {},
   "outputs": [],
   "source": []
  },
  {
   "cell_type": "code",
   "execution_count": null,
   "metadata": {},
   "outputs": [],
   "source": [
    "housingFE.to_csv('housingFE.csv',index=False)"
   ]
  },
  {
   "cell_type": "code",
   "execution_count": null,
   "metadata": {},
   "outputs": [],
   "source": [
    "housingFE = pd.read_csv('housingFE.csv')\n",
    "housingFE.head()"
   ]
  },
  {
   "cell_type": "markdown",
   "metadata": {},
   "source": [
    "### Missing Values"
   ]
  },
  {
   "cell_type": "code",
   "execution_count": null,
   "metadata": {},
   "outputs": [],
   "source": [
    "missing.sort_values(ascending=False)"
   ]
  },
  {
   "cell_type": "markdown",
   "metadata": {},
   "source": [
    "According to the documentation, the **NA** in the follow features means \"not present\" or \"no access.\" Let's give the **NA**s a different value.\n",
    "\n",
    "    PoolQC          \n",
    "    MiscFeature     \n",
    "    Alley           \n",
    "    Fence           \n",
    "    FireplaceQu     \n",
    "    GarageYrBlt     \n",
    "    GarageType      \n",
    "    GarageFinish    \n",
    "    GarageQual      \n",
    "    GarageCond      \n",
    "    BsmtFinType2    \n",
    "    BsmtExposure    \n",
    "    BsmtFinType1    \n",
    "    BsmtCond        \n",
    "    BsmtQual        \n",
    "    MasVnrArea      \n",
    "    MasVnrType      "
   ]
  },
  {
   "cell_type": "code",
   "execution_count": null,
   "metadata": {},
   "outputs": [],
   "source": [
    "def replace_na_cat(data,features):\n",
    "    data_copy = data.copy()\n",
    "    data[features] = data[features].fillna('NotApplicable')\n",
    "    return data\n",
    "\n",
    "features = ['Alley',\n",
    " 'MasVnrType',\n",
    " 'BsmtQual',\n",
    " 'BsmtCond',\n",
    " 'BsmtExposure',\n",
    " 'BsmtFinType1',\n",
    " 'BsmtFinType2',\n",
    " 'FireplaceQu',\n",
    " 'GarageType',\n",
    " 'GarageFinish',\n",
    " 'GarageQual',\n",
    " 'GarageCond',\n",
    " 'PoolQC',\n",
    " 'Fence',\n",
    " 'MiscFeature']\n",
    "\n",
    "housingFE=replace_na_cat(housingFE,features)\n",
    "housingFE.head(10)\n"
   ]
  },
  {
   "cell_type": "markdown",
   "metadata": {},
   "source": [
    "Note: Since there are no '0' values in the 'LotFrontage' feature, it's possible that the missing values, although not specified in the documentation, should be 0 to reflect that the street isn't directly connected to the property. The lack of **NA** values in the 'Street' feature doesn't affect my hypothesis since one can still have road access without the road being directly connected to one's property. SO, I'll make those **NA** values zero as well."
   ]
  },
  {
   "cell_type": "code",
   "execution_count": null,
   "metadata": {},
   "outputs": [],
   "source": [
    "def replace_na_num(data,features):\n",
    "    data_copy = data.copy()\n",
    "    data[features] = data[features].fillna(0)\n",
    "    return data\n",
    "\n",
    "features = ['MasVnrArea', 'GarageYrBlt', 'LotFrontage']\n",
    "\n",
    "housingFE=replace_na_num(housingFE,features)\n",
    "housingFE.head(10)\n"
   ]
  },
  {
   "cell_type": "code",
   "execution_count": null,
   "metadata": {},
   "outputs": [],
   "source": [
    "missing = 1 - housingFE.count()/len(housingFE) \n",
    "missing = missing[missing > 0]\n",
    "missing.sort_values(ascending=False)"
   ]
  },
  {
   "cell_type": "code",
   "execution_count": null,
   "metadata": {},
   "outputs": [],
   "source": [
    "housingFE[housingFE['Electrical'].isna()]"
   ]
  },
  {
   "cell_type": "markdown",
   "metadata": {},
   "source": [
    "Given that the only feature that has a missing value is 'Electrical', and the SalePrice for that house is nearly equal to the average SalePrice, I'm going to get rid of that row."
   ]
  },
  {
   "cell_type": "code",
   "execution_count": null,
   "metadata": {},
   "outputs": [],
   "source": [
    "housingFE = housingFE[~housingFE['Electrical'].isna()]\n",
    "housingFE.shape"
   ]
  },
  {
   "cell_type": "code",
   "execution_count": null,
   "metadata": {},
   "outputs": [],
   "source": []
  },
  {
   "cell_type": "code",
   "execution_count": null,
   "metadata": {},
   "outputs": [],
   "source": []
  },
  {
   "cell_type": "code",
   "execution_count": null,
   "metadata": {},
   "outputs": [],
   "source": [
    "# housingFE.to_csv('housingFE.csv',index=False)"
   ]
  },
  {
   "cell_type": "code",
   "execution_count": null,
   "metadata": {},
   "outputs": [],
   "source": [
    "# housingFE = pd.read_csv('housingFE.csv', keep_default_na=True)\n",
    "# housingFE.head(10)"
   ]
  },
  {
   "cell_type": "markdown",
   "metadata": {},
   "source": [
    "### Imputation\n",
    "All the missing values are accounted for so there's no need for imputation."
   ]
  },
  {
   "cell_type": "code",
   "execution_count": null,
   "metadata": {},
   "outputs": [],
   "source": [
    "# from impyute.imputation.cs import mice\n",
    "# imputed_numerics = mice(housingFE[numerical])\n",
    "# imputed_numerics.columns = housingFE[numerical].columns\n",
    "# imputed_numerics.head() \n"
   ]
  },
  {
   "cell_type": "code",
   "execution_count": null,
   "metadata": {},
   "outputs": [],
   "source": []
  },
  {
   "cell_type": "code",
   "execution_count": null,
   "metadata": {},
   "outputs": [],
   "source": []
  },
  {
   "cell_type": "markdown",
   "metadata": {},
   "source": [
    "### Encoding Data"
   ]
  },
  {
   "cell_type": "markdown",
   "metadata": {},
   "source": [
    "**I need to encode the following features:**"
   ]
  },
  {
   "cell_type": "code",
   "execution_count": null,
   "metadata": {},
   "outputs": [],
   "source": [
    "housingFE[housingFE.select_dtypes(include=[np.object]).columns]"
   ]
  },
  {
   "cell_type": "code",
   "execution_count": null,
   "metadata": {},
   "outputs": [],
   "source": [
    "for feature in housingFE.select_dtypes(include=[np.object]).columns:\n",
    "    display(housingFE[housingFE.select_dtypes(include=[np.object]).columns][feature].value_counts().to_frame())\n",
    "    print(f'There are {housing[feature].unique().size} features in {feature}.')\n",
    "\n"
   ]
  },
  {
   "cell_type": "code",
   "execution_count": null,
   "metadata": {},
   "outputs": [],
   "source": [
    "housingFE.select_dtypes(include=[np.object]).columns\n"
   ]
  },
  {
   "cell_type": "code",
   "execution_count": null,
   "metadata": {},
   "outputs": [],
   "source": [
    "nominal = ['MSSubClass', \n",
    "'MSZoning', \n",
    "'Street',\n",
    "'Alley', \n",
    "'LandContour', \n",
    "'LotConfig', \n",
    "'Neighborhood',\n",
    "'Condition1', \n",
    "'Condition2', \n",
    "'BldgType', \n",
    "'HouseStyle',\n",
    "'RoofStyle', \n",
    "'RoofMatl', \n",
    "'Exterior1st',\n",
    "'Exterior2nd',\n",
    "'MasVnrType',\n",
    "'Foundation', \n",
    "'Heating', \n",
    "'CentralAir',\n",
    "'GarageType',\n",
    "'MiscFeature',\n",
    "'SaleType',\n",
    "'SaleCondition']\n",
    " \n",
    "ordinal = ['LotShape', \n",
    "'Utilities', \n",
    "'LandSlope', \n",
    "'OverallQual',\n",
    "'OverallCond',\n",
    "'ExterQual',\n",
    "'ExterCond',\n",
    "'BsmtQual', \n",
    "'BsmtCond',\n",
    "'BsmtExposure',\n",
    "'BsmtFinType1',\n",
    "'BsmtFinType2',\n",
    "'HeatingQC', \n",
    "'Electrical', \n",
    "'KitchenQual', \n",
    "'Functional',\n",
    "'FireplaceQu', \n",
    "'GarageFinish',\n",
    "'GarageQual', \n",
    "'GarageCond',\n",
    "'PavedDrive', \n",
    "'PoolQC', \n",
    "'Fence']\n",
    " \n"
   ]
  },
  {
   "cell_type": "code",
   "execution_count": null,
   "metadata": {},
   "outputs": [],
   "source": [
    "noms = set(housingFE.select_dtypes(include=[np.object]).columns) & set(nominal)\n",
    "noms"
   ]
  },
  {
   "cell_type": "code",
   "execution_count": null,
   "metadata": {},
   "outputs": [],
   "source": [
    "ords = set(housingFE.select_dtypes(include=[np.object]).columns) & set(ordinal)\n",
    "ords"
   ]
  },
  {
   "cell_type": "code",
   "execution_count": null,
   "metadata": {},
   "outputs": [],
   "source": [
    "for feature in noms:\n",
    "    display(housingFE[housingFE.select_dtypes(include=[np.object]).columns][feature].value_counts().to_frame())\n",
    "    print(f'There are {housing[feature].unique().size} features in {feature}.')\n"
   ]
  },
  {
   "cell_type": "code",
   "execution_count": null,
   "metadata": {},
   "outputs": [],
   "source": [
    "for feature in ords:\n",
    "    display(housingFE[housingFE.select_dtypes(include=[np.object]).columns][feature].value_counts().to_frame())\n",
    "    print(f'There are {housing[feature].unique().size} features in {feature}.')\n"
   ]
  },
  {
   "cell_type": "markdown",
   "metadata": {},
   "source": [
    "**Encode Nominal Data: Dummy Encoding**"
   ]
  },
  {
   "cell_type": "code",
   "execution_count": null,
   "metadata": {},
   "outputs": [],
   "source": [
    "# def encode_nominals(data,features):\n",
    "#     from sklearn.preprocessing import OneHotEncoder\n",
    "#     import numpy as np\n",
    "#     ohencoder = OneHotEncoder()\n",
    "#     data_copy = data.copy()\n",
    "#     encfeaturesT = []\n",
    "#     for feature in features:\n",
    "#         encfeaturesT.append(ordencoder.fit_transform(data_copy[[feature]]).reshape((-1,1)))\n",
    "#     encfeatures = np.concatenate((encfeaturesT), axis=1)\n",
    "#     return pd.DataFrame(encfeatures, columns = features)\n",
    "\n",
    "def encode_noms(data,features):\n",
    "    import pandas as pd\n",
    "    return pd.get_dummies(data,columns=features,drop_first=True)\n",
    "\n"
   ]
  },
  {
   "cell_type": "code",
   "execution_count": null,
   "metadata": {},
   "outputs": [],
   "source": [
    "housingE = encode_noms(housingFE,noms)\n",
    "housingE.head()"
   ]
  },
  {
   "cell_type": "code",
   "execution_count": null,
   "metadata": {},
   "outputs": [],
   "source": []
  },
  {
   "cell_type": "markdown",
   "metadata": {},
   "source": [
    "**Encode Ordinal Data: Integer Encoding**"
   ]
  },
  {
   "cell_type": "code",
   "execution_count": null,
   "metadata": {},
   "outputs": [],
   "source": [
    "# def encode_ordinals(data,features):\n",
    "#     from sklearn.preprocessing import OrdinalEncoder\n",
    "#     import numpy as np\n",
    "#     enc = OrdinalEncoder()\n",
    "#     data_copy = data.copy()\n",
    "#     encfeaturesT = []\n",
    "#     for feature in features:\n",
    "#         encfeaturesT.append(enc.fit_transform(data_copy[[feature]]).reshape((-1,1)))\n",
    "#     encfeatures = np.concatenate((encfeaturesT), axis=1)\n",
    "#     return pd.DataFrame(encfeatures, columns = features)\n",
    "\n",
    "def encode_ords(data,features):\n",
    "#     pip install category_encoders\n",
    "    from category_encoders.ordinal import OrdinalEncoder\n",
    "    enc = OrdinalEncoder(cols=features,return_df=True)\n",
    "    return enc.fit_transform(data)\n"
   ]
  },
  {
   "cell_type": "code",
   "execution_count": null,
   "metadata": {},
   "outputs": [],
   "source": [
    "housingE = encode_ords(housingE,ords)   \n",
    "housingE.head()"
   ]
  },
  {
   "cell_type": "code",
   "execution_count": null,
   "metadata": {},
   "outputs": [],
   "source": [
    "type(housingE)"
   ]
  },
  {
   "cell_type": "code",
   "execution_count": null,
   "metadata": {},
   "outputs": [],
   "source": [
    "pd.pandas.set_option('display.max_rows',None)"
   ]
  },
  {
   "cell_type": "code",
   "execution_count": null,
   "metadata": {},
   "outputs": [],
   "source": [
    "housingE.dtypes"
   ]
  },
  {
   "cell_type": "code",
   "execution_count": null,
   "metadata": {},
   "outputs": [],
   "source": []
  },
  {
   "cell_type": "markdown",
   "metadata": {},
   "source": [
    "### Normalize Numerical Variables\n",
    "\n",
    "Not applicable; normalization is not required for XGBoost."
   ]
  },
  {
   "cell_type": "code",
   "execution_count": null,
   "metadata": {},
   "outputs": [],
   "source": []
  },
  {
   "cell_type": "markdown",
   "metadata": {},
   "source": [
    "## Feature Selection\n",
    "Not applicable; XGBoost does feature selection for you."
   ]
  },
  {
   "cell_type": "code",
   "execution_count": null,
   "metadata": {},
   "outputs": [],
   "source": []
  },
  {
   "cell_type": "markdown",
   "metadata": {},
   "source": [
    "# Data Modeling"
   ]
  },
  {
   "cell_type": "markdown",
   "metadata": {},
   "source": [
    "https://xgboost.readthedocs.io/en/latest/python/python_api.html"
   ]
  },
  {
   "cell_type": "code",
   "execution_count": 8,
   "metadata": {},
   "outputs": [],
   "source": [
    "from sklearn.ensemble import GradientBoostingRegressor\n",
    "from sklearn.model_selection import GridSearchCV, train_test_split\n",
    "import matplotlib.pyplot as plt\n",
    "import numpy as np\n",
    "import pandas as pd\n",
    "import xgboost as xgb\n",
    "%matplotlib inline"
   ]
  },
  {
   "cell_type": "code",
   "execution_count": 2,
   "metadata": {},
   "outputs": [],
   "source": [
    "housingE = pd.read_csv('housingE.csv')"
   ]
  },
  {
   "cell_type": "code",
   "execution_count": 3,
   "metadata": {},
   "outputs": [],
   "source": [
    "X, y = housingE.drop(columns='SalePrice'), housingE['SalePrice']"
   ]
  },
  {
   "cell_type": "code",
   "execution_count": 4,
   "metadata": {},
   "outputs": [],
   "source": [
    "X_train, X_test, y_train, y_test = train_test_split(X, y, test_size=0.25, random_state=42)"
   ]
  },
  {
   "cell_type": "code",
   "execution_count": null,
   "metadata": {},
   "outputs": [],
   "source": []
  },
  {
   "cell_type": "code",
   "execution_count": 12,
   "metadata": {},
   "outputs": [],
   "source": [
    "gbmr = GradientBoostingRegressor()"
   ]
  },
  {
   "cell_type": "code",
   "execution_count": 13,
   "metadata": {},
   "outputs": [
    {
     "data": {
      "text/plain": [
       "GradientBoostingRegressor(alpha=0.9, ccp_alpha=0.0, criterion='friedman_mse',\n",
       "                          init=None, learning_rate=0.1, loss='ls', max_depth=3,\n",
       "                          max_features=None, max_leaf_nodes=None,\n",
       "                          min_impurity_decrease=0.0, min_impurity_split=None,\n",
       "                          min_samples_leaf=1, min_samples_split=2,\n",
       "                          min_weight_fraction_leaf=0.0, n_estimators=100,\n",
       "                          n_iter_no_change=None, presort='deprecated',\n",
       "                          random_state=None, subsample=1.0, tol=0.0001,\n",
       "                          validation_fraction=0.1, verbose=0, warm_start=False)"
      ]
     },
     "execution_count": 13,
     "metadata": {},
     "output_type": "execute_result"
    }
   ],
   "source": [
    "gbmr.fit(X_train, y_train)"
   ]
  },
  {
   "cell_type": "code",
   "execution_count": 14,
   "metadata": {},
   "outputs": [
    {
     "name": "stdout",
     "output_type": "stream",
     "text": [
      "The R^2 is 0.972\n"
     ]
    }
   ],
   "source": [
    "print('The R^2 is %.3f' %(gbmr.score(X_train, y_train)))"
   ]
  },
  {
   "cell_type": "code",
   "execution_count": 22,
   "metadata": {},
   "outputs": [
    {
     "name": "stdout",
     "output_type": "stream",
     "text": [
      "The R^2 is 0.841\n"
     ]
    }
   ],
   "source": [
    "print('The R^2 is %.3f' %(gbmr.score(X_test, y_test)))"
   ]
  },
  {
   "cell_type": "code",
   "execution_count": null,
   "metadata": {},
   "outputs": [],
   "source": []
  },
  {
   "cell_type": "code",
   "execution_count": null,
   "metadata": {},
   "outputs": [],
   "source": []
  },
  {
   "cell_type": "code",
   "execution_count": 5,
   "metadata": {},
   "outputs": [],
   "source": [
    "# pip install xgboost"
   ]
  },
  {
   "cell_type": "code",
   "execution_count": 32,
   "metadata": {},
   "outputs": [],
   "source": [
    "# dtrain = xgb.DMatrix(X_train, label=y_train)\n",
    "# dtest = xgb.DMatrix(X_test, label=y_test)"
   ]
  },
  {
   "cell_type": "code",
   "execution_count": null,
   "metadata": {},
   "outputs": [],
   "source": [
    "# https://xgboost.readthedocs.io/en/latest/python/python_api.html#module-xgboost.sklearn"
   ]
  },
  {
   "cell_type": "code",
   "execution_count": 13,
   "metadata": {},
   "outputs": [
    {
     "name": "stdout",
     "output_type": "stream",
     "text": [
      "Fitting 10 folds for each of 1 candidates, totalling 10 fits\n"
     ]
    },
    {
     "name": "stderr",
     "output_type": "stream",
     "text": [
      "[Parallel(n_jobs=-1)]: Using backend LokyBackend with 8 concurrent workers.\n",
      "[Parallel(n_jobs=-1)]: Done   1 tasks      | elapsed:    6.9s\n",
      "[Parallel(n_jobs=-1)]: Done   2 out of  10 | elapsed:    7.0s remaining:   28.1s\n",
      "[Parallel(n_jobs=-1)]: Done   3 out of  10 | elapsed:    7.0s remaining:   16.4s\n",
      "[Parallel(n_jobs=-1)]: Done   4 out of  10 | elapsed:    7.0s remaining:   10.5s\n",
      "[Parallel(n_jobs=-1)]: Done   5 out of  10 | elapsed:    7.2s remaining:    7.2s\n",
      "[Parallel(n_jobs=-1)]: Done   6 out of  10 | elapsed:    7.4s remaining:    4.9s\n",
      "[Parallel(n_jobs=-1)]: Done   7 out of  10 | elapsed:    7.4s remaining:    3.1s\n",
      "[Parallel(n_jobs=-1)]: Done   8 out of  10 | elapsed:    7.4s remaining:    1.8s\n",
      "[Parallel(n_jobs=-1)]: Done  10 out of  10 | elapsed:    9.3s remaining:    0.0s\n",
      "[Parallel(n_jobs=-1)]: Done  10 out of  10 | elapsed:    9.3s finished\n"
     ]
    },
    {
     "name": "stdout",
     "output_type": "stream",
     "text": [
      "Wall time: 11 s\n"
     ]
    },
    {
     "data": {
      "text/plain": [
       "GridSearchCV(cv=10, error_score=nan,\n",
       "             estimator=XGBRegressor(base_score=None, booster=None,\n",
       "                                    colsample_bylevel=None,\n",
       "                                    colsample_bynode=None, colsample_bytree=0.6,\n",
       "                                    gamma=None, gpu_id=None,\n",
       "                                    importance_type='gain',\n",
       "                                    interaction_constraints=None,\n",
       "                                    learning_rate=0.1, max_delta_step=None,\n",
       "                                    max_depth=None, min_child_weight=None,\n",
       "                                    missing=nan, monotone_constraints=None,\n",
       "                                    n_estimat...\n",
       "                                    objective='reg:squarederror',\n",
       "                                    random_state=None, reg_alpha=None,\n",
       "                                    reg_lambda=None, scale_pos_weight=None,\n",
       "                                    seed=42, subsample=0.6, tree_method=None,\n",
       "                                    validate_parameters=None, verbosity=None),\n",
       "             iid='deprecated', n_jobs=-1, param_grid={'max_depth': [3]},\n",
       "             pre_dispatch='2*n_jobs', refit='neg_root_mean_squared_error',\n",
       "             return_train_score=False, scoring='neg_root_mean_squared_error',\n",
       "             verbose=11)"
      ]
     },
     "execution_count": 13,
     "metadata": {},
     "output_type": "execute_result"
    }
   ],
   "source": [
    "params = {\n",
    "    'n_estimators':[10000],\n",
    "    'max_depth':[3,5],\n",
    "    'learning_rate':np.linspace(0.001,0.1,4),#\n",
    "    'gamma':np.linspace(0,1,5),#\n",
    "    'min_child_weight':np.linspace(1,5,3),#\n",
    "    'subsample':np.linspace(0.3,0.9,3), # \n",
    "    'colsample_bytree':np.linspace(0.3,0.9,3),#\n",
    "    'reg_alpha':[0,.01,.1,.5,1],#\n",
    "    'reg_lambda':[0,.01,.1,.5,1],#    \n",
    "    'scale_pos_weight':np.linspace(1,5,3)#\n",
    "}\n",
    "\n",
    "# params = {\n",
    "#     'max_depth':[3],#\n",
    "# }\n",
    "\n",
    "xgb_estimator = xgb.XGBRegressor(learning_rate =0.1, n_estimators=1000,\n",
    "     subsample=0.6, colsample_bytree=0.6,seed=42)\n",
    "\n",
    "gsearch = GridSearchCV(estimator=xgb_estimator,param_grid=params,\n",
    "                       scoring='neg_root_mean_squared_error',n_jobs=-1,\n",
    "                       refit='neg_root_mean_squared_error',cv=10,verbose=11)\n",
    "# from tqdm import tqdm\n",
    "\n",
    "# for i in tqdm(range(1000)):\n",
    "%time gsearch.fit(X_train,y_train)"
   ]
  },
  {
   "cell_type": "code",
   "execution_count": 68,
   "metadata": {},
   "outputs": [
    {
     "data": {
      "text/plain": [
       "{'mean_fit_time': array([3.09749949]),\n",
       " 'std_fit_time': array([0.87882171]),\n",
       " 'mean_score_time': array([0.01850007]),\n",
       " 'std_score_time': array([0.00964615]),\n",
       " 'param_max_depth': masked_array(data=[1],\n",
       "              mask=[False],\n",
       "        fill_value='?',\n",
       "             dtype=object),\n",
       " 'params': [{'max_depth': 1}],\n",
       " 'split0_test_score': array([-21703.39373214]),\n",
       " 'split1_test_score': array([-20688.52698205]),\n",
       " 'split2_test_score': array([-23608.43981119]),\n",
       " 'split3_test_score': array([-27010.94073564]),\n",
       " 'split4_test_score': array([-22358.44276509]),\n",
       " 'split5_test_score': array([-21487.20842915]),\n",
       " 'split6_test_score': array([-30220.45969669]),\n",
       " 'split7_test_score': array([-28617.18640532]),\n",
       " 'split8_test_score': array([-24301.47469112]),\n",
       " 'split9_test_score': array([-24122.69834891]),\n",
       " 'mean_test_score': array([-24411.87715973]),\n",
       " 'std_test_score': array([3047.78956121]),\n",
       " 'rank_test_score': array([1])}"
      ]
     },
     "execution_count": 68,
     "metadata": {},
     "output_type": "execute_result"
    }
   ],
   "source": [
    "gsearch.cv_results_"
   ]
  },
  {
   "cell_type": "code",
   "execution_count": 76,
   "metadata": {},
   "outputs": [
    {
     "name": "stdout",
     "output_type": "stream",
     "text": [
      "Best Estimator: XGBRegressor(base_score=0.5, booster='gbtree', colsample_bylevel=1,\n",
      "             colsample_bynode=1, colsample_bytree=0.6, gamma=0, gpu_id=-1,\n",
      "             importance_type='gain', interaction_constraints='',\n",
      "             learning_rate=0.1, max_delta_step=0, max_depth=1,\n",
      "             min_child_weight=1, missing=nan, monotone_constraints='()',\n",
      "             n_estimators=1000, n_jobs=8, num_parallel_tree=1,\n",
      "             objective='reg:squarederror', random_state=42, reg_alpha=0,\n",
      "             reg_lambda=1, scale_pos_weight=1, seed=42, subsample=0.6,\n",
      "             tree_method='exact', validate_parameters=1, verbosity=None)\n",
      "Best Parameters: {'max_depth': 1}\n",
      "Best Score: -24411.87715972943\n"
     ]
    }
   ],
   "source": [
    "print(f'Best Estimator: {gsearch.best_estimator_}')\n",
    "print(f'Best Parameters: {gsearch.best_params_}')\n",
    "print(f'Best Score: {gsearch.best_score_}')"
   ]
  },
  {
   "cell_type": "code",
   "execution_count": 87,
   "metadata": {},
   "outputs": [
    {
     "data": {
      "image/png": "[encoded data removed]",
      "text/plain": [
       "<Figure size 4320x1440 with 1 Axes>"
      ]
     },
     "metadata": {
      "needs_background": "light"
     },
     "output_type": "display_data"
    }
   ],
   "source": [
    "xgb.plot_tree(gsearch.best_estimator_)\n",
    "plt.rcParams['figure.figsize'] = [50, 10]\n",
    "plt.show()"
   ]
  },
  {
   "cell_type": "code",
   "execution_count": 86,
   "metadata": {},
   "outputs": [
    {
     "data": {
      "image/png": "[encoded data removed]",
      "text/plain": [
       "<Figure size 2880x1440 with 1 Axes>"
      ]
     },
     "metadata": {
      "needs_background": "light"
     },
     "output_type": "display_data"
    }
   ],
   "source": [
    "xgb.plot_importance(gsearch.best_estimator_)\n",
    "plt.rcParams['figure.figsize'] = [60, 20]\n",
    "plt.show()"
   ]
  },
  {
   "cell_type": "code",
   "execution_count": null,
   "metadata": {},
   "outputs": [],
   "source": [
    "\n"
   ]
  },
  {
   "cell_type": "code",
   "execution_count": null,
   "metadata": {},
   "outputs": [],
   "source": []
  },
  {
   "cell_type": "code",
   "execution_count": null,
   "metadata": {},
   "outputs": [],
   "source": []
  },
  {
   "cell_type": "code",
   "execution_count": null,
   "metadata": {},
   "outputs": [],
   "source": []
  },
  {
   "cell_type": "code",
   "execution_count": null,
   "metadata": {},
   "outputs": [],
   "source": []
  },
  {
   "cell_type": "code",
   "execution_count": null,
   "metadata": {},
   "outputs": [],
   "source": []
  },
  {
   "cell_type": "code",
   "execution_count": null,
   "metadata": {},
   "outputs": [],
   "source": []
  },
  {
   "cell_type": "code",
   "execution_count": null,
   "metadata": {},
   "outputs": [],
   "source": []
  },
  {
   "cell_type": "code",
   "execution_count": null,
   "metadata": {},
   "outputs": [],
   "source": []
  },
  {
   "cell_type": "code",
   "execution_count": null,
   "metadata": {},
   "outputs": [],
   "source": []
  },
  {
   "cell_type": "code",
   "execution_count": null,
   "metadata": {},
   "outputs": [],
   "source": []
  },
  {
   "cell_type": "code",
   "execution_count": null,
   "metadata": {},
   "outputs": [],
   "source": []
  },
  {
   "cell_type": "code",
   "execution_count": null,
   "metadata": {},
   "outputs": [],
   "source": []
  },
  {
   "cell_type": "code",
   "execution_count": null,
   "metadata": {},
   "outputs": [],
   "source": []
  },
  {
   "cell_type": "code",
   "execution_count": null,
   "metadata": {},
   "outputs": [],
   "source": []
  },
  {
   "cell_type": "code",
   "execution_count": null,
   "metadata": {},
   "outputs": [],
   "source": []
  },
  {
   "cell_type": "code",
   "execution_count": null,
   "metadata": {},
   "outputs": [],
   "source": []
  }
 ],
 "metadata": {
  "kernelspec": {
   "display_name": "Python 3",
   "language": "python",
   "name": "python3"
  },
  "language_info": {
   "codemirror_mode": {
    "name": "ipython",
    "version": 3
   },
   "file_extension": ".py",
   "mimetype": "text/x-python",
   "name": "python",
   "nbconvert_exporter": "python",
   "pygments_lexer": "ipython3",
   "version": "3.7.6"
  }
 },
 "nbformat": 4,
 "nbformat_minor": 4
}
