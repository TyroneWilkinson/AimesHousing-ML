{
 "cells": [
  {
   "cell_type": "markdown",
   "metadata": {},
   "source": [
    "# Predicting House Prices with Advanced Regression Techniques\n",
    "\n",
    "<p><a name=\"sections\"></a></p>\n",
    "\n",
    "## Sections\n",
    "\n",
    "- <a href=\"#Understanding\">Data Understanding</a><br>\n",
    "    - <a href=\"#Meanings\">Feature Meanings</a><br>\n",
    "    - <a href=\"#Categorized\">Features Categorized</a><br>\n",
    "    - <a href=\"#Distributions\">Feature Distributions</a><br>\n",
    "    - <a href=\"#Missing\">Missing Values</a><br>\n",
    "    - <a href=\"#Correlation\">Correlation Among Numerical Features</a><br>\n",
    "    - <a href=\"#Outliers\">Outliers</a><br>\n",
    "- <a href=\"#Preparation\">Data Preparation</a><br>\n",
    "    - <a href=\"#Engineering\">Feature Engineering</a><br>\n",
    "        - <a href=\"#Drop\">Drop Columns</a><br>\n",
    "        - <a href=\"#H_Outliers\">Handle Outliers</a><br>\n",
    "        - <a href=\"#H_Missing\">Handle Missing Values</a><br>\n",
    "        - <a href=\"#Impute\">Imputation</a><br>        \n",
    "        - <a href=\"#Encode\">Encoding</a><br>  \n",
    "        - <a href=\"#Normalize\">Normalization</a><br>  \n",
    "        - <a href=\"#Selection\">Feature Selection</a><br>          \n",
    "- <a href=\"#Modeling\">Data Modeling</a><br>"
   ]
  },
  {
   "cell_type": "markdown",
   "metadata": {},
   "source": [
    "Useful Links:\n",
    "- https://www.kaggle.com/c/house-prices-advanced-regression-techniques\n",
    "- http://jse.amstat.org/v19n3/decock.pdf\n",
    "- http://jse.amstat.org/v19n3/decock/DataDocumentation.txt"
   ]
  },
  {
   "cell_type": "markdown",
   "metadata": {},
   "source": [
    "<p><a name=\"Understanding\"></a></p>\n",
    "\n",
    "## Data Understanding: Exploratory Data Analaysis"
   ]
  },
  {
   "cell_type": "markdown",
   "metadata": {},
   "source": [
    "Import Packages:"
   ]
  },
  {
   "cell_type": "code",
   "execution_count": null,
   "metadata": {},
   "outputs": [],
   "source": [
    "import pandas as pd\n",
    "import numpy as np\n",
    "import matplotlib.pyplot as plt\n",
    "%matplotlib inline\n",
    "import seaborn as sns\n",
    "\n",
    "pd.set_option('max_rows', None)\n",
    "pd.set_option('max_columns', None)"
   ]
  },
  {
   "cell_type": "markdown",
   "metadata": {},
   "source": [
    "Load the Ames, Iowa Housing Data Set:"
   ]
  },
  {
   "cell_type": "code",
   "execution_count": null,
   "metadata": {},
   "outputs": [],
   "source": [
    "housing=pd.read_csv('data/train.csv')"
   ]
  },
  {
   "cell_type": "code",
   "execution_count": null,
   "metadata": {},
   "outputs": [],
   "source": [
    "housing.head()"
   ]
  },
  {
   "cell_type": "code",
   "execution_count": null,
   "metadata": {},
   "outputs": [],
   "source": [
    "housing.shape"
   ]
  },
  {
   "cell_type": "code",
   "execution_count": null,
   "metadata": {
    "scrolled": true
   },
   "outputs": [],
   "source": [
    "housing.info()"
   ]
  },
  {
   "cell_type": "markdown",
   "metadata": {},
   "source": [
    "<p><a name=\"Meanings\"></a></p>\n",
    "\n",
    "### Feature Meanings\n",
    "- Id: Observation number\n",
    "- MSSubClass: Identifies the type of dwelling involved in the sale\n",
    "- MSZoning: Identifies the general zoning classification of the sale\n",
    "- LotFrontage: Linear feet of street connected to property\n",
    "- LotArea: Lot size in square feet\n",
    "- Street: Type of road access to property\n",
    "- Alley: Type of alley access to property\n",
    "- LotShape: General shape of property\n",
    "- LandContour: Flatness of the property\n",
    "- Utilities: Type of utilities available\n",
    "- LotConfig: Lot configuration\n",
    "- LandSlope: Slope of property\n",
    "- Neighborhood: Physical locations within Ames city limits\n",
    "- Condition1: Proximity to various conditions\n",
    "- Condition2: Proximity to various conditions (if more than one is present)\n",
    "- BldgType: Type of dwelling\n",
    "- HouseStyle: Style of dwelling\n",
    "- OverallQual: Rates the overall material and finish of the house\n",
    "- OverallCond: Rates the overall condition of the house\n",
    "- YearBuilt: Original construction date\n",
    "- YearRemodAdd: Remodel date (same as construction date if no remodeling or additions)\n",
    "- RoofStyle: Type of roof\n",
    "- RoofMatl: Roof material\n",
    "- Exterior1st: Exterior covering on house\n",
    "- Exterior2nd: Exterior covering on house (if more than one material)\n",
    "- MasVnrType: Masonry veneer type\n",
    "- MasVnrArea: Masonry veneer area in square feet\n",
    "- ExterQual: Evaluates the quality of the material on the exterior \n",
    "- ExterCond: Evaluates the present condition of the material on the exterior\n",
    "- Foundation: Type of foundation\n",
    "- BsmtQual: Evaluates the height of the basement\n",
    "- BsmtCond: Evaluates the general condition of the basement\n",
    "- BsmtExposure: Refers to walkout or garden level walls\n",
    "- BsmtFinType1: Rating of basement finished area\n",
    "- BsmtFinSF1: Type 1 finished square feet\n",
    "- BsmtFinType2: Rating of basement finished area (if multiple types)\n",
    "- BsmtFinSF2: Type 2 finished square feet\n",
    "- BsmtUnfSF: Unfinished square feet of basement area\n",
    "- TotalBsmtSF: Total square feet of basement area\n",
    "- Heating: Type of heating\n",
    "- HeatingQC: Heating quality and condition\n",
    "- CentralAir: Central air conditioning\n",
    "- Electrical: Electrical system\n",
    "- 1stFlrSF: First Floor square feet\n",
    "- 2ndFlrSF: Second floor square feet\n",
    "- LowQualFinSF: Low quality finished square feet (all floors)\n",
    "- GrLivArea: Above grade (ground) living area square feet\n",
    "- BsmtFullBath: Basement full bathrooms\n",
    "- BsmtHalfBath: Basement half bathrooms\n",
    "- FullBath: Full bathrooms above grade\n",
    "- HalfBath: Half baths above grade\n",
    "- Bedroom: Bedrooms above grade (does NOT include basement bedrooms)\n",
    "- Kitchen: Kitchens above grade\n",
    "- KitchenQual: Kitchen quality\n",
    "- TotRmsAbvGrd: Total rooms above grade (does not include bathrooms)\n",
    "- Functional: Home functionality (Assume typical unless deductions are warranted)\n",
    "- Fireplaces: Number of fireplaces\n",
    "- FireplaceQu: Fireplace quality\n",
    "- GarageType: Garage location\n",
    "- GarageYrBlt: Year garage was built\n",
    "- GarageFinish: Interior finish of the garage\n",
    "- GarageCars: Size of garage in car capacity\n",
    "- GarageArea: Size of garage in square feet\n",
    "- GarageQual: Garage quality\n",
    "- GarageCond: Garage condition\n",
    "- PavedDrive: Paved driveway\n",
    "- WoodDeckSF: Wood deck area in square feet\n",
    "- OpenPorchSF: Open porch area in square feet\n",
    "- EnclosedPorch: Enclosed porch area in square feet\n",
    "- 3SsnPorch: Three season porch area in square feet\n",
    "- ScreenPorch: Screen porch area in square feet\n",
    "- PoolArea: Pool area in square feet\n",
    "- PoolQC: Pool quality\n",
    "- Fence: Fence quality\n",
    "- MiscFeature: Miscellaneous feature not covered in other categories\n",
    "- MiscVal: Value of miscellaneous feature\n",
    "- MoSold: Month Sold (MM)\n",
    "- YrSold: Year Sold (YYYY)\n",
    "- SaleType: Type of sale\n",
    "- SaleCondition: Condition of sale\n",
    "- SalePrice: Sale price \n",
    "\n"
   ]
  },
  {
   "cell_type": "markdown",
   "metadata": {},
   "source": [
    "<p><a name=\"Categorized\"></a></p>\n",
    "\n",
    "### Features Categorized\n",
    "- **20 Continuous Variables**\n",
    "    - LotFrontage: Linear feet of street connected to property\n",
    "    - LotArea: Lot size in square feet\n",
    "    - MasVnrArea: Masonry veneer area in square feet\n",
    "    - BsmtFinSF1: Type 1 finished square feet\n",
    "    - BsmtFinSF2: Type 2 finished square feet\n",
    "    - BsmtUnfSF: Unfinished square feet of basement area\n",
    "    - TotalBsmtSF: Total square feet of basement area\n",
    "    - 1stFlrSF: First Floor square feet\n",
    "    - 2ndFlrSF: Second floor square feet\n",
    "    - LowQualFinSF: Low quality finished square feet (all floors)\n",
    "    - GrLivArea: Above grade (ground) living area square feet\n",
    "    - GarageArea: Size of garage in square feet\n",
    "    - WoodDeckSF: Wood deck area in square feet\n",
    "    - OpenPorchSF: Open porch area in square feet\n",
    "    - EnclosedPorch: Enclosed porch area in square feet\n",
    "    - 3SsnPorch: Three season porch area in square feet\n",
    "    - ScreenPorch: Screen porch area in square feet\n",
    "    - PoolArea: Pool area in square feet\n",
    "    - MiscVal: Value of miscellaneous feature\n",
    "    - SalePrice: Sale price \n",
    "    \n",
    "\n",
    "- **15 Discrete Variables**\n",
    "    - Id: Observation number\n",
    "    - YearBuilt: Original construction date\n",
    "    - YearRemodAdd: Remodel date (same as construction date if no remodeling or additions)\n",
    "    - BsmtFullBath: Basement full bathrooms\n",
    "    - BsmtHalfBath: Basement half bathrooms\n",
    "    - FullBath: Full bathrooms above grade\n",
    "    - HalfBath: Half baths above grade\n",
    "    - Bedroom: Bedrooms above grade (does NOT include basement bedrooms)\n",
    "    - Kitchen: Kitchens above grade\n",
    "    - TotRmsAbvGrd: Total rooms above grade (does not include bathrooms)\n",
    "    - Fireplaces: Number of fireplaces\n",
    "    - GarageYrBlt: Year garage was built\n",
    "    - GarageCars: Size of garage in car capacity\n",
    "    - MoSold: Month Sold (MM)\n",
    "    - YrSold: Year Sold (YYYY)\n",
    "\n",
    "\n",
    "- **46 Categorical Variables**\n",
    "    - 23 Nominal Variables:\n",
    "        - MSSubClass: Identifies the type of dwelling involved in the sale.\n",
    "        - MSZoning: Identifies the general zoning classification of the sale.\n",
    "        - Street: Type of road access to property\n",
    "        - Alley: Type of alley access to property\n",
    "        - LandContour: Flatness of the property\n",
    "        - LotConfig: Lot configuration\n",
    "        - Neighborhood: Physical locations within Ames city limits\n",
    "        - Condition1: Proximity to various conditions\n",
    "        - Condition2: Proximity to various conditions (if more than one is present)\n",
    "        - BldgType: Type of dwelling\n",
    "        - HouseStyle: Style of dwelling\n",
    "        - RoofStyle: Type of roof\n",
    "        - RoofMatl: Roof material\n",
    "        - Exterior1st: Exterior covering on house\n",
    "        - Exterior2nd: Exterior covering on house (if more than one material)\n",
    "        - MasVnrType: Masonry veneer type\n",
    "        - Foundation: Type of foundation\n",
    "        - Heating: Type of heating\n",
    "        - CentralAir: Central air conditioning\n",
    "        - GarageType: Garage location\n",
    "        - MiscFeature: Miscellaneous feature not covered in other categories\n",
    "        - SaleType: Type of sale\n",
    "        - SaleCondition: Condition of sale\n",
    "        \n",
    "    - 23 Ordinal Variables:\n",
    "        - LotShape: General shape of property\n",
    "        - Utilities: Type of utilities available\n",
    "        - LandSlope: Slope of property\n",
    "        - OverallQual: Rates the overall material and finish of the house\n",
    "        - OverallCond: Rates the overall condition of the house\n",
    "        - ExterQual: Evaluates the quality of the material on the exterior \n",
    "        - ExterCond: Evaluates the present condition of the material on the exterior\n",
    "        - BsmtQual: Evaluates the height of the basement\n",
    "        - BsmtCond: Evaluates the general condition of the basement\n",
    "        - BsmtExposure: Refers to walkout or garden level walls\n",
    "        - BsmtFinType1: Rating of basement finished area\n",
    "        - BsmtFinType2: Rating of basement finished area (if multiple types)\n",
    "        - HeatingQC: Heating quality and condition\n",
    "        - Electrical: Electrical system\n",
    "        - KitchenQual: Kitchen quality\n",
    "        - Functional: Home functionality (Assume typical unless deductions are warranted)\n",
    "        - FireplaceQu: Fireplace quality\n",
    "        - GarageFinish: Interior finish of the garage\n",
    "        - GarageQual: Garage quality\n",
    "        - GarageCond: Garage condition\n",
    "        - PavedDrive: Paved driveway\n",
    "        - PoolQC: Pool quality\n",
    "        - Fence: Fence quality\n",
    "\n",
    "\n"
   ]
  },
  {
   "cell_type": "markdown",
   "metadata": {},
   "source": [
    "- **_I should drop the Id column since it's redundant._**"
   ]
  },
  {
   "cell_type": "code",
   "execution_count": null,
   "metadata": {},
   "outputs": [],
   "source": [
    "housing.Id"
   ]
  },
  {
   "cell_type": "code",
   "execution_count": null,
   "metadata": {},
   "outputs": [],
   "source": []
  },
  {
   "cell_type": "markdown",
   "metadata": {},
   "source": [
    "<p><a name=\"Distributions\"></a></p>\n",
    "\n",
    "### Feature Distributions"
   ]
  },
  {
   "cell_type": "markdown",
   "metadata": {},
   "source": [
    "Distribution of Numerical Features:"
   ]
  },
  {
   "cell_type": "code",
   "execution_count": null,
   "metadata": {
    "scrolled": true
   },
   "outputs": [],
   "source": [
    "housing.hist(bins=50, figsize=(20,15))"
   ]
  },
  {
   "cell_type": "markdown",
   "metadata": {},
   "source": [
    "Distribution of Continuous Features:"
   ]
  },
  {
   "cell_type": "code",
   "execution_count": null,
   "metadata": {},
   "outputs": [],
   "source": [
    "continuous = ['LotFrontage',\n",
    "'LotArea',\n",
    "'MasVnrArea',\n",
    "'BsmtFinSF1',\n",
    "'BsmtFinSF2',\n",
    "'BsmtUnfSF',\n",
    "'TotalBsmtSF',\n",
    "'1stFlrSF',\n",
    "'2ndFlrSF',\n",
    "'LowQualFinSF',\n",
    "'GrLivArea',\n",
    "'GarageArea',\n",
    "'WoodDeckSF',\n",
    "'OpenPorchSF',\n",
    "'EnclosedPorch',\n",
    "'3SsnPorch',\n",
    "'ScreenPorch',\n",
    "'PoolArea',\n",
    "'MiscVal',\n",
    "'SalePrice']"
   ]
  },
  {
   "cell_type": "code",
   "execution_count": null,
   "metadata": {},
   "outputs": [],
   "source": [
    "housing[continuous].hist(bins=50, figsize=(20,15))"
   ]
  },
  {
   "cell_type": "code",
   "execution_count": null,
   "metadata": {},
   "outputs": [],
   "source": [
    "housing['PoolArea'].value_counts()"
   ]
  },
  {
   "cell_type": "code",
   "execution_count": null,
   "metadata": {},
   "outputs": [],
   "source": [
    "housing['LowQualFinSF'].value_counts()"
   ]
  },
  {
   "cell_type": "markdown",
   "metadata": {},
   "source": [
    "- **_Much of the continuous features are skewed. Perhaps I should normalize._** \n",
    "- **_Perhaps I can get rid of some of these features like 'PoolArea' and 'LowQualFinSF' that seem to add nothing to the data._** "
   ]
  },
  {
   "cell_type": "markdown",
   "metadata": {},
   "source": [
    "Descriptive Statistics of Numerical Features:"
   ]
  },
  {
   "cell_type": "code",
   "execution_count": null,
   "metadata": {},
   "outputs": [],
   "source": [
    "housing.describe()"
   ]
  },
  {
   "cell_type": "markdown",
   "metadata": {},
   "source": [
    "Count distribution of Categorical Features:"
   ]
  },
  {
   "cell_type": "code",
   "execution_count": null,
   "metadata": {},
   "outputs": [],
   "source": [
    "housing.select_dtypes(include=[np.object]).columns.tolist()"
   ]
  },
  {
   "cell_type": "code",
   "execution_count": null,
   "metadata": {},
   "outputs": [],
   "source": [
    "categorical = ['MSSubClass',\n",
    "'MSZoning',\n",
    " 'Street',\n",
    " 'Alley',\n",
    " 'LotShape',\n",
    " 'LandContour',\n",
    " 'Utilities',\n",
    " 'LotConfig',\n",
    " 'LandSlope',\n",
    " 'Neighborhood',\n",
    " 'Condition1',\n",
    " 'Condition2',\n",
    " 'BldgType',\n",
    " 'HouseStyle',\n",
    " 'OverallQual',\n",
    " 'OverallCond',\n",
    " 'RoofStyle',\n",
    " 'RoofMatl',\n",
    " 'Exterior1st',\n",
    " 'Exterior2nd',\n",
    " 'MasVnrType',\n",
    " 'ExterQual',\n",
    " 'ExterCond',\n",
    " 'Foundation',\n",
    " 'BsmtQual',\n",
    " 'BsmtCond',\n",
    " 'BsmtExposure',\n",
    " 'BsmtFinType1',\n",
    " 'BsmtFinType2',\n",
    " 'Heating',\n",
    " 'HeatingQC',\n",
    " 'CentralAir',\n",
    " 'Electrical',\n",
    " 'KitchenQual',\n",
    " 'Functional',\n",
    " 'FireplaceQu',\n",
    " 'GarageType',\n",
    " 'GarageFinish',\n",
    " 'GarageQual',\n",
    " 'GarageCond',\n",
    " 'PavedDrive',\n",
    " 'PoolQC',\n",
    " 'Fence',\n",
    " 'MiscFeature',\n",
    " 'SaleType',\n",
    " 'SaleCondition']"
   ]
  },
  {
   "cell_type": "code",
   "execution_count": null,
   "metadata": {},
   "outputs": [],
   "source": [
    "for feature in categorical:\n",
    "    display(housing[feature].value_counts().to_frame())\n",
    "    print(f'There are {housing[feature].unique().size} features in {feature}.')"
   ]
  },
  {
   "cell_type": "markdown",
   "metadata": {},
   "source": [
    "- **_Street and Utilities to name a couple seem useless._**\n",
    "- **_PoolQC seems to be missing most of its data..._**"
   ]
  },
  {
   "cell_type": "code",
   "execution_count": null,
   "metadata": {},
   "outputs": [],
   "source": [
    "housing['PoolQC']"
   ]
  },
  {
   "cell_type": "code",
   "execution_count": null,
   "metadata": {},
   "outputs": [],
   "source": []
  },
  {
   "cell_type": "markdown",
   "metadata": {},
   "source": [
    "<p><a name=\"Missing\"></a></p>\n",
    "\n",
    "### Missing Values"
   ]
  },
  {
   "cell_type": "code",
   "execution_count": null,
   "metadata": {},
   "outputs": [],
   "source": [
    "housing.columns[housing.isnull().any()].size"
   ]
  },
  {
   "cell_type": "code",
   "execution_count": null,
   "metadata": {},
   "outputs": [],
   "source": [
    "missing_cols = housing.columns[housing.isnull().any()].tolist()\n",
    "missing_cols"
   ]
  },
  {
   "cell_type": "code",
   "execution_count": null,
   "metadata": {},
   "outputs": [],
   "source": [
    "missing = 1 - housing.count()/len(housing) \n",
    "missing"
   ]
  },
  {
   "cell_type": "markdown",
   "metadata": {},
   "source": [
    "Percentage of missing values:"
   ]
  },
  {
   "cell_type": "code",
   "execution_count": null,
   "metadata": {},
   "outputs": [],
   "source": [
    "missing = missing[missing > 0]\n",
    "missing"
   ]
  },
  {
   "cell_type": "code",
   "execution_count": null,
   "metadata": {},
   "outputs": [],
   "source": [
    "missing.sort_values(ascending=False)"
   ]
  },
  {
   "cell_type": "code",
   "execution_count": null,
   "metadata": {},
   "outputs": [],
   "source": [
    "missing.sort_values().plot.bar(color=np.random.rand(len(missing),3))"
   ]
  },
  {
   "cell_type": "markdown",
   "metadata": {},
   "source": [
    "- **_I may have to get rid of some features due to the preponderance of missing values, and find suitable replacements for the missing values in other features._**\n"
   ]
  },
  {
   "cell_type": "markdown",
   "metadata": {},
   "source": [
    "Relationship Between Missing Values and SalesPrice:"
   ]
  },
  {
   "cell_type": "code",
   "execution_count": null,
   "metadata": {},
   "outputs": [],
   "source": [
    "housing[missing_cols]"
   ]
  },
  {
   "cell_type": "code",
   "execution_count": null,
   "metadata": {},
   "outputs": [],
   "source": [
    "# Note: Median is used since that measure of central tendency is resistant to outliers.\n",
    "housing1 = housing[missing_cols].copy()\n",
    "housing1[missing_cols] = np.where(housing[missing[missing > 0].index].isnull(), 1, 0)\n",
    "housing1 = pd.concat([housing1, housing[['SalePrice']]], axis=1)\n",
    "housing1"
   ]
  },
  {
   "cell_type": "code",
   "execution_count": null,
   "metadata": {},
   "outputs": [],
   "source": [
    "for feature in missing_cols:\n",
    "    housing1.groupby(feature)['SalePrice'].median().plot.bar()\n",
    "    plt.title(f'Missingness in {feature}')\n",
    "    plt.ylabel('SalePrice')\n",
    "    plt.show()"
   ]
  },
  {
   "cell_type": "markdown",
   "metadata": {},
   "source": [
    "**_Due to the relationship between the missing values and SalePrice, it would prove useful to replace them with meaningful values instead of just dropping the columns._**"
   ]
  },
  {
   "cell_type": "code",
   "execution_count": null,
   "metadata": {},
   "outputs": [],
   "source": []
  },
  {
   "cell_type": "markdown",
   "metadata": {},
   "source": [
    "<p><a name=\"Correlation\"></a></p>\n",
    "\n",
    "### Correlation Among the Numerical Features "
   ]
  },
  {
   "cell_type": "code",
   "execution_count": null,
   "metadata": {},
   "outputs": [],
   "source": [
    "numerical = housing.select_dtypes(include=[np.number]).columns.tolist()\n",
    "numerical"
   ]
  },
  {
   "cell_type": "code",
   "execution_count": null,
   "metadata": {},
   "outputs": [],
   "source": [
    "correlation = housing[numerical].corr()\n",
    "correlation"
   ]
  },
  {
   "cell_type": "code",
   "execution_count": null,
   "metadata": {},
   "outputs": [],
   "source": [
    "correlation['SalePrice'].sort_values(ascending=False)"
   ]
  },
  {
   "cell_type": "code",
   "execution_count": null,
   "metadata": {
    "scrolled": false
   },
   "outputs": [],
   "source": [
    "f,ax = plt.subplots(figsize=(25,25))\n",
    "sns.heatmap(correlation, vmax=.8, linewidths=0.01, linecolor='white', square=True)"
   ]
  },
  {
   "cell_type": "markdown",
   "metadata": {},
   "source": [
    "**_There is high multicolinearity._**"
   ]
  },
  {
   "cell_type": "markdown",
   "metadata": {},
   "source": [
    "The features that have a correlation greater than .5 with SalePrice:"
   ]
  },
  {
   "cell_type": "code",
   "execution_count": null,
   "metadata": {},
   "outputs": [],
   "source": [
    "n=11\n",
    "features = correlation['SalePrice'].sort_values(ascending=False).index.tolist()[:n]\n",
    "features"
   ]
  },
  {
   "cell_type": "code",
   "execution_count": null,
   "metadata": {},
   "outputs": [],
   "source": [
    "np.corrcoef(housing[features].values)"
   ]
  },
  {
   "cell_type": "code",
   "execution_count": null,
   "metadata": {
    "scrolled": true
   },
   "outputs": [],
   "source": [
    "correlation.loc[features,features]"
   ]
  },
  {
   "cell_type": "code",
   "execution_count": null,
   "metadata": {},
   "outputs": [],
   "source": [
    "f,ax = plt.subplots(figsize=(10,10))\n",
    "sns.heatmap(correlation.loc[features,features], vmax=0.8, annot=True, linewidths=0.01, linecolor='white', square=True)"
   ]
  },
  {
   "cell_type": "markdown",
   "metadata": {},
   "source": [
    "**_Multicolinearity can be seen more plainly. For instance, GarageCars and GarageArea have a pearson correlation coefficient of 0.88. Since SalePrice and GarageCars have a higher correlation coefficient than SalePrice and GarageArea, it'd make sense to get rid of GarageArea_**."
   ]
  },
  {
   "cell_type": "code",
   "execution_count": null,
   "metadata": {},
   "outputs": [],
   "source": []
  },
  {
   "cell_type": "markdown",
   "metadata": {},
   "source": [
    "<p><a name=\"Outliers\"></a></p>\n",
    "\n",
    "### Outliers"
   ]
  },
  {
   "cell_type": "markdown",
   "metadata": {},
   "source": [
    "Documentation: \n",
    "\n",
    "\"There are 5 observations that an instructor may wish to remove from the data set before giving it to students (a plot of SALE PRICE versus GR LIV AREA will indicate them quickly). Three of them are true outliers (Partial Sales that likely don’t represent actual market values) and two of them are simply unusual sales (very large houses priced relatively appropriately). I would recommend removing any houses with more than 4000 square feet from the data set (which eliminates these 5 unusual observations) before assigning it to students.\""
   ]
  },
  {
   "cell_type": "code",
   "execution_count": null,
   "metadata": {},
   "outputs": [],
   "source": [
    "plt.scatter(housing['GrLivArea'],housing['SalePrice'])\n",
    "plt.xlabel('GrLivArea')\n",
    "plt.ylabel('SalePrice')\n",
    "plt.show()"
   ]
  },
  {
   "cell_type": "code",
   "execution_count": null,
   "metadata": {},
   "outputs": [],
   "source": [
    "housing['GrLivArea'].nlargest(5)"
   ]
  },
  {
   "cell_type": "code",
   "execution_count": null,
   "metadata": {},
   "outputs": [],
   "source": [
    "f,ax = plt.subplots(figsize=(10,5))\n",
    "plt.boxplot(housing['GrLivArea'], vert=False)\n",
    "plt.yticks(ticks=[])\n",
    "plt.title('GrLivArea')\n",
    "plt.show()"
   ]
  },
  {
   "cell_type": "markdown",
   "metadata": {},
   "source": [
    "I see 4 values here. Let's see what other outliers may exist in the data:"
   ]
  },
  {
   "cell_type": "code",
   "execution_count": null,
   "metadata": {
    "scrolled": false
   },
   "outputs": [],
   "source": [
    "for feature in continuous:\n",
    "    f,ax = plt.subplots(figsize=(12,3))\n",
    "    sns.boxplot(x=housing[feature])\n",
    "    plt.yticks(ticks=[])\n",
    "    plt.title(feature)\n",
    "    plt.show()"
   ]
  },
  {
   "cell_type": "markdown",
   "metadata": {},
   "source": [
    "**_Outliers exist in the data. They'll have to be dealt with._**"
   ]
  },
  {
   "cell_type": "code",
   "execution_count": null,
   "metadata": {},
   "outputs": [],
   "source": []
  },
  {
   "cell_type": "markdown",
   "metadata": {},
   "source": [
    "<p><a name=\"Preparation\"></a></p>\n",
    "\n",
    "## Data Preparation"
   ]
  },
  {
   "cell_type": "markdown",
   "metadata": {},
   "source": [
    "<p><a name=\"Engineering\"></a></p>\n",
    "\n",
    "### Feature Engineering"
   ]
  },
  {
   "cell_type": "code",
   "execution_count": null,
   "metadata": {},
   "outputs": [],
   "source": [
    "train,test=pd.read_csv('data/train.csv'),pd.read_csv('data/test.csv')"
   ]
  },
  {
   "cell_type": "markdown",
   "metadata": {},
   "source": [
    "<p><a name=\"Drop\"></a></p>\n",
    "\n",
    "#### Drop Columns"
   ]
  },
  {
   "cell_type": "code",
   "execution_count": null,
   "metadata": {},
   "outputs": [],
   "source": [
    "housing.head()"
   ]
  },
  {
   "cell_type": "code",
   "execution_count": null,
   "metadata": {},
   "outputs": [],
   "source": [
    "housing.drop(columns='Id').columns"
   ]
  },
  {
   "cell_type": "code",
   "execution_count": null,
   "metadata": {},
   "outputs": [],
   "source": [
    "def drop_columns(dataset):\n",
    "    data = dataset.copy()\n",
    "    return data.drop(columns='Id')"
   ]
  },
  {
   "cell_type": "code",
   "execution_count": null,
   "metadata": {},
   "outputs": [],
   "source": [
    "housingD = drop_columns(housing)\n",
    "housingD.columns"
   ]
  },
  {
   "cell_type": "code",
   "execution_count": null,
   "metadata": {},
   "outputs": [],
   "source": [
    "train,test=drop_columns(train),drop_columns(test)"
   ]
  },
  {
   "cell_type": "markdown",
   "metadata": {},
   "source": [
    "_Note: Multicolinearity does **not** affect the accuracy of predictive models, including regression models. However, the feature importance scores will be influenced. Since the objective is to predict house prices, and not to determine the most important features, I won't attempt to mitigate multicolinearity._"
   ]
  },
  {
   "cell_type": "markdown",
   "metadata": {},
   "source": [
    "<p><a name=\"H_Outliers\"></a></p>\n",
    "\n",
    "#### Handle Outliers"
   ]
  },
  {
   "cell_type": "code",
   "execution_count": null,
   "metadata": {},
   "outputs": [],
   "source": [
    "housingD.shape"
   ]
  },
  {
   "cell_type": "code",
   "execution_count": null,
   "metadata": {},
   "outputs": [],
   "source": [
    "housingO = housingD.copy()"
   ]
  },
  {
   "cell_type": "code",
   "execution_count": null,
   "metadata": {},
   "outputs": [],
   "source": [
    "housingO[housingO['GrLivArea'] > 4000].shape"
   ]
  },
  {
   "cell_type": "code",
   "execution_count": null,
   "metadata": {},
   "outputs": [],
   "source": [
    "housingO = housingO[housingO['GrLivArea'] < 4000]\n",
    "housingO.shape"
   ]
  },
  {
   "cell_type": "code",
   "execution_count": null,
   "metadata": {},
   "outputs": [],
   "source": [
    "housingO[housingO['LotFrontage'] > 200].shape"
   ]
  },
  {
   "cell_type": "code",
   "execution_count": null,
   "metadata": {},
   "outputs": [],
   "source": [
    "housingO = housingO[(housingO['LotFrontage'].isna()) | (housingO['LotFrontage'] < 200)]\n",
    "housingO.shape"
   ]
  },
  {
   "cell_type": "code",
   "execution_count": null,
   "metadata": {},
   "outputs": [],
   "source": [
    "housingO[housingO['LotArea'] > 100000] .shape"
   ]
  },
  {
   "cell_type": "code",
   "execution_count": null,
   "metadata": {},
   "outputs": [],
   "source": [
    "housingO = housingO[housingO['LotArea'] < 100000] \n",
    "housingO.shape"
   ]
  },
  {
   "cell_type": "code",
   "execution_count": null,
   "metadata": {},
   "outputs": [],
   "source": [
    "def handle_outliers(dataset):\n",
    "    data = dataset.copy()\n",
    "    condition1 = data['GrLivArea'] < 4000\n",
    "    condition2 = (data['LotFrontage'].isna()) | (data['LotFrontage'] < 200)\n",
    "    condition3 = data['LotArea'] < 100000\n",
    "    return data[condition1 & condition2 & condition3]"
   ]
  },
  {
   "cell_type": "code",
   "execution_count": null,
   "metadata": {},
   "outputs": [],
   "source": [
    "handle_outliers(housingD).shape"
   ]
  },
  {
   "cell_type": "code",
   "execution_count": null,
   "metadata": {},
   "outputs": [],
   "source": [
    "train,test=handle_outliers(train),handle_outliers(test)"
   ]
  },
  {
   "cell_type": "code",
   "execution_count": null,
   "metadata": {},
   "outputs": [],
   "source": []
  },
  {
   "cell_type": "markdown",
   "metadata": {},
   "source": [
    "<p><a name=\"H_Missing\"></a></p>\n",
    "\n",
    "#### Missing Values"
   ]
  },
  {
   "cell_type": "code",
   "execution_count": null,
   "metadata": {},
   "outputs": [],
   "source": [
    "missing.sort_values(ascending=False)"
   ]
  },
  {
   "cell_type": "markdown",
   "metadata": {},
   "source": [
    "According to the documentation, the **NA** in the follow features means \"not present\" or \"no access.\" Let's give the **NA**s a suitable value so that they are not interpreted as _missing_.\n",
    "\n",
    "    PoolQC          \n",
    "    MiscFeature     \n",
    "    Alley           \n",
    "    Fence           \n",
    "    FireplaceQu     \n",
    "    GarageYrBlt     \n",
    "    GarageType      \n",
    "    GarageFinish    \n",
    "    GarageQual      \n",
    "    GarageCond      \n",
    "    BsmtFinType2    \n",
    "    BsmtExposure    \n",
    "    BsmtFinType1    \n",
    "    BsmtCond        \n",
    "    BsmtQual        \n",
    "    MasVnrArea      \n",
    "    MasVnrType      "
   ]
  },
  {
   "cell_type": "code",
   "execution_count": null,
   "metadata": {},
   "outputs": [],
   "source": [
    "housingM = housingO.copy()\n",
    "housingM.head()"
   ]
  },
  {
   "cell_type": "code",
   "execution_count": null,
   "metadata": {},
   "outputs": [],
   "source": [
    "def replace_na_cat(dataset,features):\n",
    "    data = dataset.copy()\n",
    "    data[features] = data[features].fillna('NotApplicable')\n",
    "    return data"
   ]
  },
  {
   "cell_type": "code",
   "execution_count": null,
   "metadata": {},
   "outputs": [],
   "source": [
    "features = ['Alley',\n",
    " 'MasVnrType',\n",
    " 'BsmtQual',\n",
    " 'BsmtCond',\n",
    " 'BsmtExposure',\n",
    " 'BsmtFinType1',\n",
    " 'BsmtFinType2',\n",
    " 'FireplaceQu',\n",
    " 'GarageType',\n",
    " 'GarageFinish',\n",
    " 'GarageQual',\n",
    " 'GarageCond',\n",
    " 'PoolQC',\n",
    " 'Fence',\n",
    " 'MiscFeature']\n",
    "\n",
    "housingM=replace_na_cat(housingM,features)\n",
    "housingM.head(10)"
   ]
  },
  {
   "cell_type": "code",
   "execution_count": null,
   "metadata": {},
   "outputs": [],
   "source": [
    "train,test=replace_na_cat(train,features),replace_na_cat(test,features)"
   ]
  },
  {
   "cell_type": "markdown",
   "metadata": {},
   "source": [
    "Note: Since there are no 0 (zero) values in the 'LotFrontage' feature, it is possible that the missing values, although not specified in the documentation, should be zero to reflect that the street is not directly connected to the property. The lack of **NA** values in the 'Street' feature does not affect my hypothesis since one can still have road access without the road being directly connected to one's property. SO, let's the **NA** values in that column zero in addition to the other features."
   ]
  },
  {
   "cell_type": "code",
   "execution_count": null,
   "metadata": {},
   "outputs": [],
   "source": [
    "def replace_na_num(dataset,features):\n",
    "    data = dataset.copy()\n",
    "    data[features] = data[features].fillna(0)\n",
    "    return data"
   ]
  },
  {
   "cell_type": "code",
   "execution_count": null,
   "metadata": {},
   "outputs": [],
   "source": [
    "features = ['MasVnrArea', 'GarageYrBlt', 'LotFrontage']\n",
    "\n",
    "housingM=replace_na_num(housingM,features)\n",
    "housingM.head(10)"
   ]
  },
  {
   "cell_type": "code",
   "execution_count": null,
   "metadata": {},
   "outputs": [],
   "source": [
    "train,test=replace_na_num(train,features),replace_na_num(test,features)"
   ]
  },
  {
   "cell_type": "code",
   "execution_count": null,
   "metadata": {},
   "outputs": [],
   "source": [
    "missing = 1 - housingM.count()/len(housingM) \n",
    "missing = missing[missing > 0]\n",
    "missing.sort_values(ascending=False)"
   ]
  },
  {
   "cell_type": "code",
   "execution_count": null,
   "metadata": {},
   "outputs": [],
   "source": [
    "housingM[housingM['Electrical'].isna()]"
   ]
  },
  {
   "cell_type": "code",
   "execution_count": null,
   "metadata": {},
   "outputs": [],
   "source": [
    "housingM['SalePrice'].median()"
   ]
  },
  {
   "cell_type": "code",
   "execution_count": null,
   "metadata": {},
   "outputs": [],
   "source": [
    "# From above:\n",
    "housing1.groupby('Electrical')['SalePrice'].median().plot.bar()\n",
    "plt.title(f'Missingness in Electrical')\n",
    "plt.ylabel('SalePrice')\n",
    "plt.show()"
   ]
  },
  {
   "cell_type": "markdown",
   "metadata": {},
   "source": [
    "Given that only one feature with a missing value remains, that feature only has one missing value, and the SalePrice for that house is fairly close to the median SalePrice, let's just get rid of its missing value(s)."
   ]
  },
  {
   "cell_type": "code",
   "execution_count": null,
   "metadata": {},
   "outputs": [],
   "source": [
    "housingM.shape"
   ]
  },
  {
   "cell_type": "code",
   "execution_count": null,
   "metadata": {},
   "outputs": [],
   "source": [
    "housingM[~housingM['Electrical'].isna()].shape\n"
   ]
  },
  {
   "cell_type": "code",
   "execution_count": null,
   "metadata": {},
   "outputs": [],
   "source": [
    "def remove_missing(dataset,features):\n",
    "    data = dataset.copy()\n",
    "    return data[~data[features].isna()]"
   ]
  },
  {
   "cell_type": "code",
   "execution_count": null,
   "metadata": {},
   "outputs": [],
   "source": [
    "features = 'Electrical'\n",
    "housingM = remove_missing(housingM,features)\n",
    "housingM.shape"
   ]
  },
  {
   "cell_type": "code",
   "execution_count": null,
   "metadata": {},
   "outputs": [],
   "source": [
    "housingM"
   ]
  },
  {
   "cell_type": "code",
   "execution_count": null,
   "metadata": {},
   "outputs": [],
   "source": [
    "train,test=remove_missing(train,features),remove_missing(test,features)"
   ]
  },
  {
   "cell_type": "code",
   "execution_count": null,
   "metadata": {},
   "outputs": [],
   "source": []
  },
  {
   "cell_type": "markdown",
   "metadata": {},
   "source": [
    "<p><a name=\"Impute\"></a></p>\n",
    "\n",
    "#### Imputation\n",
    "Not applicable; all of the missing values are accounted for."
   ]
  },
  {
   "cell_type": "code",
   "execution_count": null,
   "metadata": {},
   "outputs": [],
   "source": [
    "# # pip install impyute\n",
    "# from impyute.imputation.cs import mice\n",
    "# imputed_numerics = mice(housingFE[numerical])\n",
    "# imputed_numerics.columns = housingFE[numerical].columns\n",
    "# imputed_numerics.head() \n"
   ]
  },
  {
   "cell_type": "code",
   "execution_count": null,
   "metadata": {},
   "outputs": [],
   "source": []
  },
  {
   "cell_type": "markdown",
   "metadata": {},
   "source": [
    "<p><a name=\"Encode\"></a></p>\n",
    "\n",
    "#### Encoding\n",
    "I need to encode the following features:"
   ]
  },
  {
   "cell_type": "code",
   "execution_count": null,
   "metadata": {},
   "outputs": [],
   "source": [
    "housingE = housingM.copy()"
   ]
  },
  {
   "cell_type": "code",
   "execution_count": null,
   "metadata": {},
   "outputs": [],
   "source": [
    "housingM"
   ]
  },
  {
   "cell_type": "code",
   "execution_count": null,
   "metadata": {},
   "outputs": [],
   "source": [
    "housingE[housingE.select_dtypes(include=[np.object])]"
   ]
  },
  {
   "cell_type": "code",
   "execution_count": null,
   "metadata": {},
   "outputs": [],
   "source": []
  },
  {
   "cell_type": "code",
   "execution_count": null,
   "metadata": {},
   "outputs": [],
   "source": []
  },
  {
   "cell_type": "code",
   "execution_count": null,
   "metadata": {},
   "outputs": [],
   "source": []
  },
  {
   "cell_type": "code",
   "execution_count": null,
   "metadata": {},
   "outputs": [],
   "source": []
  }
 ],
 "metadata": {
  "kernelspec": {
   "display_name": "Python 3",
   "language": "python",
   "name": "python3"
  },
  "language_info": {
   "codemirror_mode": {
    "name": "ipython",
    "version": 3
   },
   "file_extension": ".py",
   "mimetype": "text/x-python",
   "name": "python",
   "nbconvert_exporter": "python",
   "pygments_lexer": "ipython3",
   "version": "3.7.6"
  }
 },
 "nbformat": 4,
 "nbformat_minor": 4
}
